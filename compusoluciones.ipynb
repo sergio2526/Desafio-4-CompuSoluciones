{
  "nbformat": 4,
  "nbformat_minor": 0,
  "metadata": {
    "kernelspec": {
      "name": "python3",
      "display_name": "Python 3.6",
      "language": "python"
    },
    "language_info": {
      "name": "python",
      "version": "3.6.9",
      "mimetype": "text/x-python",
      "codemirror_mode": {
        "name": "ipython",
        "version": 3
      },
      "pygments_lexer": "ipython3",
      "nbconvert_exporter": "python",
      "file_extension": ".py"
    },
    "colab": {
      "name": "compusoluciones.ipynb",
      "provenance": []
    }
  },
  "cells": [
    {
      "cell_type": "markdown",
      "metadata": {
        "collapsed": true,
        "id": "TtzFZjtSete8",
        "colab_type": "text"
      },
      "source": [
        "# MARATONA BEHIND THE CODE 2020\n",
        "\n",
        "## DESAFIO 4 - CompuSoluciones"
      ]
    },
    {
      "cell_type": "markdown",
      "metadata": {
        "id": "7kswHFSdete9",
        "colab_type": "text"
      },
      "source": [
        "### Introducción"
      ]
    },
    {
      "cell_type": "markdown",
      "metadata": {
        "id": "8yr-XfHgete-",
        "colab_type": "text"
      },
      "source": [
        "En este desafío, CompuSoluciones usará herramientas de IBM como Watson Studio (o Cloud Pack for Data) y Watson Machine Learning para construir un modelo de Machine Learning natural capaz de predecir la probabilidad de cumplimiento de pago.\n",
        "\n",
        "La idea esencial del Desafío 4 es crear un modelo basado en machine learning capaz de identificar el comportamiento financiero del asociado de negocio, permitiendo una probabilidad de cumplimiento o incumplimiento del crédito."
      ]
    },
    {
      "cell_type": "markdown",
      "metadata": {
        "id": "rat-lieZete-",
        "colab_type": "text"
      },
      "source": [
        "<hr>"
      ]
    },
    {
      "cell_type": "markdown",
      "metadata": {
        "id": "WKklQZEzete_",
        "colab_type": "text"
      },
      "source": [
        "### Instalación de Librerias"
      ]
    },
    {
      "cell_type": "code",
      "metadata": {
        "id": "tIkmxAThetfA",
        "colab_type": "code",
        "colab": {},
        "outputId": "d23abe20-c1ad-466f-b937-46233f0a1c87"
      },
      "source": [
        "!pip install scikit-learn==0.20.3 --upgrade"
      ],
      "execution_count": null,
      "outputs": [
        {
          "output_type": "stream",
          "text": [
            "Requirement already up-to-date: scikit-learn==0.20.3 in /opt/conda/envs/Python36/lib/python3.6/site-packages (0.20.3)\r\n",
            "Requirement already satisfied, skipping upgrade: scipy>=0.13.3 in /opt/conda/envs/Python36/lib/python3.6/site-packages (from scikit-learn==0.20.3) (1.2.0)\r\n",
            "Requirement already satisfied, skipping upgrade: numpy>=1.8.2 in /opt/conda/envs/Python36/lib/python3.6/site-packages (from scikit-learn==0.20.3) (1.15.4)\r\n"
          ],
          "name": "stdout"
        }
      ]
    },
    {
      "cell_type": "code",
      "metadata": {
        "id": "niW5UzP7etfD",
        "colab_type": "code",
        "colab": {},
        "outputId": "69a0eb98-a9c0-47cd-8a06-621c2ded404e"
      },
      "source": [
        "!pip install xgboost==0.82 --upgrade"
      ],
      "execution_count": null,
      "outputs": [
        {
          "output_type": "stream",
          "text": [
            "Requirement already up-to-date: xgboost==0.82 in /opt/conda/envs/Python36/lib/python3.6/site-packages (0.82)\r\n",
            "Requirement already satisfied, skipping upgrade: scipy in /opt/conda/envs/Python36/lib/python3.6/site-packages (from xgboost==0.82) (1.2.0)\r\n",
            "Requirement already satisfied, skipping upgrade: numpy in /opt/conda/envs/Python36/lib/python3.6/site-packages (from xgboost==0.82) (1.15.4)\r\n"
          ],
          "name": "stdout"
        }
      ]
    },
    {
      "cell_type": "code",
      "metadata": {
        "id": "9oamkpHuetfG",
        "colab_type": "code",
        "colab": {}
      },
      "source": [
        "# Si desea utilizar la biblioteca ** xgboost **, instale la versión 0.71.\n",
        "#!pip install xgboost==0.71 --upgrade"
      ],
      "execution_count": null,
      "outputs": []
    },
    {
      "cell_type": "code",
      "metadata": {
        "id": "GuvN2zXSetfI",
        "colab_type": "code",
        "colab": {}
      },
      "source": [
        "import json\n",
        "import requests\n",
        "import pandas as pd\n",
        "import numpy as np\n",
        "from scipy import stats\n",
        "from datetime import datetime\n",
        "from sklearn import preprocessing\n",
        "from sklearn.model_selection import KFold\n",
        "from sklearn.impute import SimpleImputer\n",
        "from sklearn.model_selection import train_test_split\n",
        "from sklearn.pipeline import Pipeline\n",
        "import matplotlib.pyplot as plt\n",
        "import seaborn as sns"
      ],
      "execution_count": null,
      "outputs": []
    },
    {
      "cell_type": "markdown",
      "metadata": {
        "id": "OmsCsYsoetfL",
        "colab_type": "text"
      },
      "source": [
        "### Descargando el dataset csv desde Github"
      ]
    },
    {
      "cell_type": "code",
      "metadata": {
        "id": "N4inTwl1etfM",
        "colab_type": "code",
        "colab": {},
        "outputId": "58afd2c5-4dd8-4748-cd4b-f60ec291ce02"
      },
      "source": [
        "!wget --no-check-certificate --content-disposition https://raw.githubusercontent.com/vanderlei-test/dataset/master/reto-4-compu-train.csv"
      ],
      "execution_count": null,
      "outputs": [
        {
          "output_type": "stream",
          "text": [
            "--2020-08-23 22:14:29--  https://raw.githubusercontent.com/vanderlei-test/dataset/master/reto-4-compu-train.csv\n",
            "Resolving raw.githubusercontent.com (raw.githubusercontent.com)... 151.101.48.133\n",
            "Connecting to raw.githubusercontent.com (raw.githubusercontent.com)|151.101.48.133|:443... connected.\n",
            "HTTP request sent, awaiting response... 200 OK\n",
            "Length: 1751735 (1.7M) [text/plain]\n",
            "Saving to: ‘reto-4-compu-train.csv.11’\n",
            "\n",
            "100%[======================================>] 1,751,735   --.-K/s   in 0.04s   \n",
            "\n",
            "2020-08-23 22:14:29 (41.4 MB/s) - ‘reto-4-compu-train.csv.11’ saved [1751735/1751735]\n",
            "\n"
          ],
          "name": "stdout"
        }
      ]
    },
    {
      "cell_type": "code",
      "metadata": {
        "id": "fqJvLfkUetfP",
        "colab_type": "code",
        "colab": {},
        "outputId": "b25b6c59-4226-46b3-b79d-0e496f505c47"
      },
      "source": [
        "df = pd.read_csv(r'reto-4-compu-train.csv')\n",
        "df.head()"
      ],
      "execution_count": null,
      "outputs": [
        {
          "output_type": "execute_result",
          "data": {
            "text/plain": [
              "       EFECTIVO           CXC    INVENTARIO    EQ_OFICINA  EQ_TRANSPORTE  \\\n",
              "0           NaN  7.710800e+06           NaN  1.237449e+06   2.947057e+05   \n",
              "1  7.437098e+04  2.213116e+06           NaN  1.335531e+05   4.000109e+05   \n",
              "2  5.269987e+06  2.893119e+07  3.983352e+05  1.533061e+07   3.478673e+06   \n",
              "3  9.092134e+05  1.145092e+07  9.577823e+06  1.068692e+06   1.302021e+06   \n",
              "4  9.688669e+05  8.539206e+06  3.898283e+06  4.168733e+05            NaN   \n",
              "\n",
              "   TERRENOS_Y_CONSTRUCCIONES           CXP  CONTRIBUCIONES_X_PAGAR  \\\n",
              "0               8.812520e+06  4.547214e+07            239671.50090   \n",
              "1               8.491851e+06  1.573254e+07             94809.20697   \n",
              "2              -1.393229e+07           NaN            610814.63990   \n",
              "3               1.379064e+06           NaN                     NaN   \n",
              "4              -6.297179e+05  7.620711e+06            116647.73960   \n",
              "\n",
              "   ANTICIPOS_CTE   CAP_SOCIAL  UTILIDADES_ACUMULADAS  UTILIDAD_O_PERDIDA  \\\n",
              "0   1.257907e+06  2356497.733          -6.009930e+06       -6.816681e+06   \n",
              "1   6.708985e+05          NaN          -7.980962e+06       -3.342452e+06   \n",
              "2   1.009937e+07  1444426.243                    NaN       -4.026344e+06   \n",
              "3   2.378928e+06  1236065.779                    NaN       -4.567435e+06   \n",
              "4   1.798065e+06  3657339.603           7.702845e+05       -7.110320e+05   \n",
              "\n",
              "   TOTAL_VENTAS  TOTAL_COMPRAS  UTILIDAD_BRUTA  TOTAL_GASTOS    OBJETIVO  \n",
              "0   41309820.53   6.872572e+07     6298390.104  1.505762e+07    Aceptado  \n",
              "1           NaN   3.588274e+07             NaN  1.085156e+07    Aceptado  \n",
              "2           NaN   3.292337e+08             NaN  8.680735e+06  Sospechoso  \n",
              "3   76310275.60            NaN             NaN  1.323267e+07    Aceptado  \n",
              "4   62901614.29   3.614260e+07     6850340.403  1.100048e+07    Aceptado  "
            ],
            "text/html": [
              "<div>\n",
              "<style scoped>\n",
              "    .dataframe tbody tr th:only-of-type {\n",
              "        vertical-align: middle;\n",
              "    }\n",
              "\n",
              "    .dataframe tbody tr th {\n",
              "        vertical-align: top;\n",
              "    }\n",
              "\n",
              "    .dataframe thead th {\n",
              "        text-align: right;\n",
              "    }\n",
              "</style>\n",
              "<table border=\"1\" class=\"dataframe\">\n",
              "  <thead>\n",
              "    <tr style=\"text-align: right;\">\n",
              "      <th></th>\n",
              "      <th>EFECTIVO</th>\n",
              "      <th>CXC</th>\n",
              "      <th>INVENTARIO</th>\n",
              "      <th>EQ_OFICINA</th>\n",
              "      <th>EQ_TRANSPORTE</th>\n",
              "      <th>TERRENOS_Y_CONSTRUCCIONES</th>\n",
              "      <th>CXP</th>\n",
              "      <th>CONTRIBUCIONES_X_PAGAR</th>\n",
              "      <th>ANTICIPOS_CTE</th>\n",
              "      <th>CAP_SOCIAL</th>\n",
              "      <th>UTILIDADES_ACUMULADAS</th>\n",
              "      <th>UTILIDAD_O_PERDIDA</th>\n",
              "      <th>TOTAL_VENTAS</th>\n",
              "      <th>TOTAL_COMPRAS</th>\n",
              "      <th>UTILIDAD_BRUTA</th>\n",
              "      <th>TOTAL_GASTOS</th>\n",
              "      <th>OBJETIVO</th>\n",
              "    </tr>\n",
              "  </thead>\n",
              "  <tbody>\n",
              "    <tr>\n",
              "      <th>0</th>\n",
              "      <td>NaN</td>\n",
              "      <td>7.710800e+06</td>\n",
              "      <td>NaN</td>\n",
              "      <td>1.237449e+06</td>\n",
              "      <td>2.947057e+05</td>\n",
              "      <td>8.812520e+06</td>\n",
              "      <td>4.547214e+07</td>\n",
              "      <td>239671.50090</td>\n",
              "      <td>1.257907e+06</td>\n",
              "      <td>2356497.733</td>\n",
              "      <td>-6.009930e+06</td>\n",
              "      <td>-6.816681e+06</td>\n",
              "      <td>41309820.53</td>\n",
              "      <td>6.872572e+07</td>\n",
              "      <td>6298390.104</td>\n",
              "      <td>1.505762e+07</td>\n",
              "      <td>Aceptado</td>\n",
              "    </tr>\n",
              "    <tr>\n",
              "      <th>1</th>\n",
              "      <td>7.437098e+04</td>\n",
              "      <td>2.213116e+06</td>\n",
              "      <td>NaN</td>\n",
              "      <td>1.335531e+05</td>\n",
              "      <td>4.000109e+05</td>\n",
              "      <td>8.491851e+06</td>\n",
              "      <td>1.573254e+07</td>\n",
              "      <td>94809.20697</td>\n",
              "      <td>6.708985e+05</td>\n",
              "      <td>NaN</td>\n",
              "      <td>-7.980962e+06</td>\n",
              "      <td>-3.342452e+06</td>\n",
              "      <td>NaN</td>\n",
              "      <td>3.588274e+07</td>\n",
              "      <td>NaN</td>\n",
              "      <td>1.085156e+07</td>\n",
              "      <td>Aceptado</td>\n",
              "    </tr>\n",
              "    <tr>\n",
              "      <th>2</th>\n",
              "      <td>5.269987e+06</td>\n",
              "      <td>2.893119e+07</td>\n",
              "      <td>3.983352e+05</td>\n",
              "      <td>1.533061e+07</td>\n",
              "      <td>3.478673e+06</td>\n",
              "      <td>-1.393229e+07</td>\n",
              "      <td>NaN</td>\n",
              "      <td>610814.63990</td>\n",
              "      <td>1.009937e+07</td>\n",
              "      <td>1444426.243</td>\n",
              "      <td>NaN</td>\n",
              "      <td>-4.026344e+06</td>\n",
              "      <td>NaN</td>\n",
              "      <td>3.292337e+08</td>\n",
              "      <td>NaN</td>\n",
              "      <td>8.680735e+06</td>\n",
              "      <td>Sospechoso</td>\n",
              "    </tr>\n",
              "    <tr>\n",
              "      <th>3</th>\n",
              "      <td>9.092134e+05</td>\n",
              "      <td>1.145092e+07</td>\n",
              "      <td>9.577823e+06</td>\n",
              "      <td>1.068692e+06</td>\n",
              "      <td>1.302021e+06</td>\n",
              "      <td>1.379064e+06</td>\n",
              "      <td>NaN</td>\n",
              "      <td>NaN</td>\n",
              "      <td>2.378928e+06</td>\n",
              "      <td>1236065.779</td>\n",
              "      <td>NaN</td>\n",
              "      <td>-4.567435e+06</td>\n",
              "      <td>76310275.60</td>\n",
              "      <td>NaN</td>\n",
              "      <td>NaN</td>\n",
              "      <td>1.323267e+07</td>\n",
              "      <td>Aceptado</td>\n",
              "    </tr>\n",
              "    <tr>\n",
              "      <th>4</th>\n",
              "      <td>9.688669e+05</td>\n",
              "      <td>8.539206e+06</td>\n",
              "      <td>3.898283e+06</td>\n",
              "      <td>4.168733e+05</td>\n",
              "      <td>NaN</td>\n",
              "      <td>-6.297179e+05</td>\n",
              "      <td>7.620711e+06</td>\n",
              "      <td>116647.73960</td>\n",
              "      <td>1.798065e+06</td>\n",
              "      <td>3657339.603</td>\n",
              "      <td>7.702845e+05</td>\n",
              "      <td>-7.110320e+05</td>\n",
              "      <td>62901614.29</td>\n",
              "      <td>3.614260e+07</td>\n",
              "      <td>6850340.403</td>\n",
              "      <td>1.100048e+07</td>\n",
              "      <td>Aceptado</td>\n",
              "    </tr>\n",
              "  </tbody>\n",
              "</table>\n",
              "</div>"
            ]
          },
          "metadata": {
            "tags": []
          },
          "execution_count": 6
        }
      ]
    },
    {
      "cell_type": "code",
      "metadata": {
        "id": "tPvCJKubetfV",
        "colab_type": "code",
        "colab": {},
        "outputId": "b91e1f7d-595d-4d36-c48d-5ea228ff8e03"
      },
      "source": [
        "df.shape"
      ],
      "execution_count": null,
      "outputs": [
        {
          "output_type": "execute_result",
          "data": {
            "text/plain": [
              "(9400, 17)"
            ]
          },
          "metadata": {
            "tags": []
          },
          "execution_count": 7
        }
      ]
    },
    {
      "cell_type": "markdown",
      "metadata": {
        "id": "1Yv-PvtQetfX",
        "colab_type": "text"
      },
      "source": [
        "### Acerca del Dataset"
      ]
    },
    {
      "cell_type": "code",
      "metadata": {
        "scrolled": false,
        "id": "hQxf3w1ketfY",
        "colab_type": "code",
        "colab": {},
        "outputId": "0871f32d-152f-4057-f926-b79cd4d9cf2a"
      },
      "source": [
        "df.info()"
      ],
      "execution_count": null,
      "outputs": [
        {
          "output_type": "stream",
          "text": [
            "<class 'pandas.core.frame.DataFrame'>\n",
            "RangeIndex: 9400 entries, 0 to 9399\n",
            "Data columns (total 17 columns):\n",
            "EFECTIVO                     7986 non-null float64\n",
            "CXC                          7968 non-null float64\n",
            "INVENTARIO                   8000 non-null float64\n",
            "EQ_OFICINA                   7945 non-null float64\n",
            "EQ_TRANSPORTE                7988 non-null float64\n",
            "TERRENOS_Y_CONSTRUCCIONES    8038 non-null float64\n",
            "CXP                          7934 non-null float64\n",
            "CONTRIBUCIONES_X_PAGAR       8052 non-null float64\n",
            "ANTICIPOS_CTE                7976 non-null float64\n",
            "CAP_SOCIAL                   8036 non-null float64\n",
            "UTILIDADES_ACUMULADAS        7993 non-null float64\n",
            "UTILIDAD_O_PERDIDA           8031 non-null float64\n",
            "TOTAL_VENTAS                 7941 non-null float64\n",
            "TOTAL_COMPRAS                7908 non-null float64\n",
            "UTILIDAD_BRUTA               7971 non-null float64\n",
            "TOTAL_GASTOS                 7943 non-null float64\n",
            "OBJETIVO                     9400 non-null object\n",
            "dtypes: float64(16), object(1)\n",
            "memory usage: 1.2+ MB\n"
          ],
          "name": "stdout"
        }
      ]
    },
    {
      "cell_type": "markdown",
      "metadata": {
        "id": "0SwOE3Iketfa",
        "colab_type": "text"
      },
      "source": [
        "Las variables son todas numericas. Solo nuestra variable TARGET (Prestamo aprobado o posible incumplimiento financiero) es the tipo float.\n",
        "\n",
        "La función describe() de abajo muestra varias estadisticas del dataset."
      ]
    },
    {
      "cell_type": "code",
      "metadata": {
        "scrolled": true,
        "id": "se9d3yX-etfb",
        "colab_type": "code",
        "colab": {},
        "outputId": "eb6f6af1-19fe-46f5-ab7e-a7ae41a8e5e6"
      },
      "source": [
        "df.describe()"
      ],
      "execution_count": null,
      "outputs": [
        {
          "output_type": "execute_result",
          "data": {
            "text/plain": [
              "           EFECTIVO           CXC    INVENTARIO    EQ_OFICINA  EQ_TRANSPORTE  \\\n",
              "count  7.986000e+03  7.968000e+03  8.000000e+03  7.945000e+03   7.988000e+03   \n",
              "mean   1.720915e+06  1.561073e+07  1.098941e+07  4.341284e+06   1.321588e+06   \n",
              "std    5.958844e+06  1.980334e+07  1.541956e+07  1.885512e+07   1.398674e+06   \n",
              "min    2.591455e+03  3.282261e+01  5.019700e-02  2.974216e+02   1.698222e+02   \n",
              "25%    1.874601e+05  2.362067e+06  9.281351e+05  1.769855e+05   3.433503e+05   \n",
              "50%    5.112329e+05  8.255125e+06  4.810330e+06  6.529255e+05   8.630635e+05   \n",
              "75%    1.432613e+06  2.160462e+07  1.474278e+07  2.430901e+06   1.827559e+06   \n",
              "max    3.343603e+08  2.135761e+08  1.664338e+08  5.913821e+08   1.290365e+07   \n",
              "\n",
              "       TERRENOS_Y_CONSTRUCCIONES           CXP  CONTRIBUCIONES_X_PAGAR  \\\n",
              "count               8.038000e+03  7.934000e+03            8.052000e+03   \n",
              "mean                6.198420e+05  2.275234e+07            4.109997e+05   \n",
              "std                 6.202347e+06  2.810091e+07            6.311683e+05   \n",
              "min                -1.577708e+07  1.276200e+01            5.638191e+03   \n",
              "25%                -3.874056e+06  3.711720e+06            1.113298e+05   \n",
              "50%                 1.828932e+06  1.286143e+07            2.288855e+05   \n",
              "75%                 5.955197e+06  3.097250e+07            4.690705e+05   \n",
              "max                 9.031323e+06  2.644946e+08            1.618323e+07   \n",
              "\n",
              "       ANTICIPOS_CTE    CAP_SOCIAL  UTILIDADES_ACUMULADAS  UTILIDAD_O_PERDIDA  \\\n",
              "count   7.976000e+03  8.036000e+03           7.993000e+03        8.031000e+03   \n",
              "mean    2.635145e+06  3.325138e+06           4.240122e+06       -2.090086e+06   \n",
              "std     3.828127e+06  4.122756e+06           1.066916e+07        2.439421e+06   \n",
              "min     4.495763e+00  2.334091e+00          -4.029189e+07       -8.716171e+06   \n",
              "25%     3.813363e+05  5.629920e+05          -3.025772e+06       -3.824858e+06   \n",
              "50%     1.235872e+06  1.870131e+06           4.119952e+06       -1.629044e+06   \n",
              "75%     3.273238e+06  4.536913e+06           1.140550e+07       -7.368186e+03   \n",
              "max     4.291686e+07  4.116688e+07           4.056842e+07        1.214191e+06   \n",
              "\n",
              "       TOTAL_VENTAS  TOTAL_COMPRAS  UTILIDAD_BRUTA  TOTAL_GASTOS  \n",
              "count  7.941000e+03   7.908000e+03    7.971000e+03  7.943000e+03  \n",
              "mean   1.017051e+08   1.211510e+08    1.702067e+07  1.620236e+07  \n",
              "std    1.148423e+08   3.320798e+08    1.710116e+07  1.341951e+07  \n",
              "min    7.154203e+03   1.458903e+05    2.408107e+03  3.979024e+03  \n",
              "25%    2.303181e+07   1.214764e+07    4.836037e+06  6.104123e+06  \n",
              "50%    6.309045e+07   3.473485e+07    1.181114e+07  1.272461e+07  \n",
              "75%    1.378293e+08   1.007433e+08    2.352766e+07  2.260017e+07  \n",
              "max    1.151511e+09   1.000136e+10    1.438985e+08  9.763166e+07  "
            ],
            "text/html": [
              "<div>\n",
              "<style scoped>\n",
              "    .dataframe tbody tr th:only-of-type {\n",
              "        vertical-align: middle;\n",
              "    }\n",
              "\n",
              "    .dataframe tbody tr th {\n",
              "        vertical-align: top;\n",
              "    }\n",
              "\n",
              "    .dataframe thead th {\n",
              "        text-align: right;\n",
              "    }\n",
              "</style>\n",
              "<table border=\"1\" class=\"dataframe\">\n",
              "  <thead>\n",
              "    <tr style=\"text-align: right;\">\n",
              "      <th></th>\n",
              "      <th>EFECTIVO</th>\n",
              "      <th>CXC</th>\n",
              "      <th>INVENTARIO</th>\n",
              "      <th>EQ_OFICINA</th>\n",
              "      <th>EQ_TRANSPORTE</th>\n",
              "      <th>TERRENOS_Y_CONSTRUCCIONES</th>\n",
              "      <th>CXP</th>\n",
              "      <th>CONTRIBUCIONES_X_PAGAR</th>\n",
              "      <th>ANTICIPOS_CTE</th>\n",
              "      <th>CAP_SOCIAL</th>\n",
              "      <th>UTILIDADES_ACUMULADAS</th>\n",
              "      <th>UTILIDAD_O_PERDIDA</th>\n",
              "      <th>TOTAL_VENTAS</th>\n",
              "      <th>TOTAL_COMPRAS</th>\n",
              "      <th>UTILIDAD_BRUTA</th>\n",
              "      <th>TOTAL_GASTOS</th>\n",
              "    </tr>\n",
              "  </thead>\n",
              "  <tbody>\n",
              "    <tr>\n",
              "      <th>count</th>\n",
              "      <td>7.986000e+03</td>\n",
              "      <td>7.968000e+03</td>\n",
              "      <td>8.000000e+03</td>\n",
              "      <td>7.945000e+03</td>\n",
              "      <td>7.988000e+03</td>\n",
              "      <td>8.038000e+03</td>\n",
              "      <td>7.934000e+03</td>\n",
              "      <td>8.052000e+03</td>\n",
              "      <td>7.976000e+03</td>\n",
              "      <td>8.036000e+03</td>\n",
              "      <td>7.993000e+03</td>\n",
              "      <td>8.031000e+03</td>\n",
              "      <td>7.941000e+03</td>\n",
              "      <td>7.908000e+03</td>\n",
              "      <td>7.971000e+03</td>\n",
              "      <td>7.943000e+03</td>\n",
              "    </tr>\n",
              "    <tr>\n",
              "      <th>mean</th>\n",
              "      <td>1.720915e+06</td>\n",
              "      <td>1.561073e+07</td>\n",
              "      <td>1.098941e+07</td>\n",
              "      <td>4.341284e+06</td>\n",
              "      <td>1.321588e+06</td>\n",
              "      <td>6.198420e+05</td>\n",
              "      <td>2.275234e+07</td>\n",
              "      <td>4.109997e+05</td>\n",
              "      <td>2.635145e+06</td>\n",
              "      <td>3.325138e+06</td>\n",
              "      <td>4.240122e+06</td>\n",
              "      <td>-2.090086e+06</td>\n",
              "      <td>1.017051e+08</td>\n",
              "      <td>1.211510e+08</td>\n",
              "      <td>1.702067e+07</td>\n",
              "      <td>1.620236e+07</td>\n",
              "    </tr>\n",
              "    <tr>\n",
              "      <th>std</th>\n",
              "      <td>5.958844e+06</td>\n",
              "      <td>1.980334e+07</td>\n",
              "      <td>1.541956e+07</td>\n",
              "      <td>1.885512e+07</td>\n",
              "      <td>1.398674e+06</td>\n",
              "      <td>6.202347e+06</td>\n",
              "      <td>2.810091e+07</td>\n",
              "      <td>6.311683e+05</td>\n",
              "      <td>3.828127e+06</td>\n",
              "      <td>4.122756e+06</td>\n",
              "      <td>1.066916e+07</td>\n",
              "      <td>2.439421e+06</td>\n",
              "      <td>1.148423e+08</td>\n",
              "      <td>3.320798e+08</td>\n",
              "      <td>1.710116e+07</td>\n",
              "      <td>1.341951e+07</td>\n",
              "    </tr>\n",
              "    <tr>\n",
              "      <th>min</th>\n",
              "      <td>2.591455e+03</td>\n",
              "      <td>3.282261e+01</td>\n",
              "      <td>5.019700e-02</td>\n",
              "      <td>2.974216e+02</td>\n",
              "      <td>1.698222e+02</td>\n",
              "      <td>-1.577708e+07</td>\n",
              "      <td>1.276200e+01</td>\n",
              "      <td>5.638191e+03</td>\n",
              "      <td>4.495763e+00</td>\n",
              "      <td>2.334091e+00</td>\n",
              "      <td>-4.029189e+07</td>\n",
              "      <td>-8.716171e+06</td>\n",
              "      <td>7.154203e+03</td>\n",
              "      <td>1.458903e+05</td>\n",
              "      <td>2.408107e+03</td>\n",
              "      <td>3.979024e+03</td>\n",
              "    </tr>\n",
              "    <tr>\n",
              "      <th>25%</th>\n",
              "      <td>1.874601e+05</td>\n",
              "      <td>2.362067e+06</td>\n",
              "      <td>9.281351e+05</td>\n",
              "      <td>1.769855e+05</td>\n",
              "      <td>3.433503e+05</td>\n",
              "      <td>-3.874056e+06</td>\n",
              "      <td>3.711720e+06</td>\n",
              "      <td>1.113298e+05</td>\n",
              "      <td>3.813363e+05</td>\n",
              "      <td>5.629920e+05</td>\n",
              "      <td>-3.025772e+06</td>\n",
              "      <td>-3.824858e+06</td>\n",
              "      <td>2.303181e+07</td>\n",
              "      <td>1.214764e+07</td>\n",
              "      <td>4.836037e+06</td>\n",
              "      <td>6.104123e+06</td>\n",
              "    </tr>\n",
              "    <tr>\n",
              "      <th>50%</th>\n",
              "      <td>5.112329e+05</td>\n",
              "      <td>8.255125e+06</td>\n",
              "      <td>4.810330e+06</td>\n",
              "      <td>6.529255e+05</td>\n",
              "      <td>8.630635e+05</td>\n",
              "      <td>1.828932e+06</td>\n",
              "      <td>1.286143e+07</td>\n",
              "      <td>2.288855e+05</td>\n",
              "      <td>1.235872e+06</td>\n",
              "      <td>1.870131e+06</td>\n",
              "      <td>4.119952e+06</td>\n",
              "      <td>-1.629044e+06</td>\n",
              "      <td>6.309045e+07</td>\n",
              "      <td>3.473485e+07</td>\n",
              "      <td>1.181114e+07</td>\n",
              "      <td>1.272461e+07</td>\n",
              "    </tr>\n",
              "    <tr>\n",
              "      <th>75%</th>\n",
              "      <td>1.432613e+06</td>\n",
              "      <td>2.160462e+07</td>\n",
              "      <td>1.474278e+07</td>\n",
              "      <td>2.430901e+06</td>\n",
              "      <td>1.827559e+06</td>\n",
              "      <td>5.955197e+06</td>\n",
              "      <td>3.097250e+07</td>\n",
              "      <td>4.690705e+05</td>\n",
              "      <td>3.273238e+06</td>\n",
              "      <td>4.536913e+06</td>\n",
              "      <td>1.140550e+07</td>\n",
              "      <td>-7.368186e+03</td>\n",
              "      <td>1.378293e+08</td>\n",
              "      <td>1.007433e+08</td>\n",
              "      <td>2.352766e+07</td>\n",
              "      <td>2.260017e+07</td>\n",
              "    </tr>\n",
              "    <tr>\n",
              "      <th>max</th>\n",
              "      <td>3.343603e+08</td>\n",
              "      <td>2.135761e+08</td>\n",
              "      <td>1.664338e+08</td>\n",
              "      <td>5.913821e+08</td>\n",
              "      <td>1.290365e+07</td>\n",
              "      <td>9.031323e+06</td>\n",
              "      <td>2.644946e+08</td>\n",
              "      <td>1.618323e+07</td>\n",
              "      <td>4.291686e+07</td>\n",
              "      <td>4.116688e+07</td>\n",
              "      <td>4.056842e+07</td>\n",
              "      <td>1.214191e+06</td>\n",
              "      <td>1.151511e+09</td>\n",
              "      <td>1.000136e+10</td>\n",
              "      <td>1.438985e+08</td>\n",
              "      <td>9.763166e+07</td>\n",
              "    </tr>\n",
              "  </tbody>\n",
              "</table>\n",
              "</div>"
            ]
          },
          "metadata": {
            "tags": []
          },
          "execution_count": 9
        }
      ]
    },
    {
      "cell_type": "markdown",
      "metadata": {
        "id": "aYPzaSlHetfd",
        "colab_type": "text"
      },
      "source": [
        "<hr>"
      ]
    },
    {
      "cell_type": "markdown",
      "metadata": {
        "id": "QxRRDiz8etfe",
        "colab_type": "text"
      },
      "source": [
        "### Entrenamiento y evaluación de un modelo de clasificación binaria"
      ]
    },
    {
      "cell_type": "markdown",
      "metadata": {
        "id": "-7sV2_iaetfe",
        "colab_type": "text"
      },
      "source": [
        "\n",
        "#### Transformación 1: excluir columnas del conjunto de datos\n",
        "\n",
        "Para la creación de una transformación de datos personalizada en scikit-learn, es necesario crear una clase con los métodos transform y fit. En el método de 'transform', se ejecutará la lógica de nuestra transformación.\n",
        "\n",
        "La siguiente celda muestra el código completo de una transformación DropColumns para eliminar columnas de un pandas DataFrame.\n"
      ]
    },
    {
      "cell_type": "code",
      "metadata": {
        "id": "CC5Ic1rEetff",
        "colab_type": "code",
        "colab": {}
      },
      "source": [
        "from sklearn.base import BaseEstimator, TransformerMixin\n",
        "\n",
        "\n",
        "# All sklearn Transforms must have the `transform` and `fit` methods\n",
        "class DropColumns(BaseEstimator, TransformerMixin):\n",
        "    def __init__(self, columns):\n",
        "        self.columns = columns\n",
        "\n",
        "    def fit(self, X, y=None):\n",
        "        return self\n",
        "    \n",
        "    def transform(self, X):\n",
        "        # Primero copiamos el dataframe de datos de entrada 'X'\n",
        "        data = X.copy()\n",
        "        # Devolvemos un nuevo dataframe de datos sin las columnas no deseadas\n",
        "        return data.drop(labels=self.columns, axis='columns')"
      ],
      "execution_count": null,
      "outputs": []
    },
    {
      "cell_type": "code",
      "metadata": {
        "id": "xASoGiMNetfi",
        "colab_type": "code",
        "colab": {},
        "outputId": "ed117719-6739-4555-8fc0-312c83dccc3d"
      },
      "source": [
        "# Creación de instancias de una transformación DropColumns\n",
        "rm_columns = DropColumns(\n",
        "    columns=[\"CXC\", \"CXP\"]  # Esta transformación toma como parámetro una lista con los nombres de las columnas no deseadas\n",
        ")\n",
        "\n",
        "print(rm_columns)"
      ],
      "execution_count": null,
      "outputs": [
        {
          "output_type": "stream",
          "text": [
            "DropColumns(columns=['CXC', 'CXP'])\n"
          ],
          "name": "stdout"
        }
      ]
    },
    {
      "cell_type": "code",
      "metadata": {
        "id": "JVzXVc4Jetfo",
        "colab_type": "code",
        "colab": {},
        "outputId": "150adcfd-3551-4217-a7d9-607d395cd255"
      },
      "source": [
        "# Ver las columnas del conjunto de datos original\n",
        "print(\"Columnas del conjunto de datos original: \\n\")\n",
        "print(df.columns)\n",
        "\n",
        "# Aplicar la transformación ``DropColumns`` al conjunto de datos base\n",
        "rm_columns.fit(X=df)\n",
        "\n",
        "# Reconstruyendo un DataFrame de Pandas con el resultado de la transformación\n",
        "df2 = pd.DataFrame.from_records(\n",
        "    data=rm_columns.transform(\n",
        "        X=df\n",
        "    ),\n",
        ")\n",
        "\n",
        "# Ver las columnas del conjunto de datos transformado\n",
        "print(\"\\n\\nColumnas del conjunto de datos después de la transformación ``DropColumns``: \\n\")\n",
        "print(df2.columns)"
      ],
      "execution_count": null,
      "outputs": [
        {
          "output_type": "stream",
          "text": [
            "Columnas del conjunto de datos original: \n",
            "\n",
            "Index(['EFECTIVO', 'CXC', 'INVENTARIO', 'EQ_OFICINA', 'EQ_TRANSPORTE',\n",
            "       'TERRENOS_Y_CONSTRUCCIONES', 'CXP', 'CONTRIBUCIONES_X_PAGAR',\n",
            "       'ANTICIPOS_CTE', 'CAP_SOCIAL', 'UTILIDADES_ACUMULADAS',\n",
            "       'UTILIDAD_O_PERDIDA', 'TOTAL_VENTAS', 'TOTAL_COMPRAS', 'UTILIDAD_BRUTA',\n",
            "       'TOTAL_GASTOS', 'OBJETIVO'],\n",
            "      dtype='object')\n",
            "\n",
            "\n",
            "Columnas del conjunto de datos después de la transformación ``DropColumns``: \n",
            "\n",
            "Index(['EFECTIVO', 'INVENTARIO', 'EQ_OFICINA', 'EQ_TRANSPORTE',\n",
            "       'TERRENOS_Y_CONSTRUCCIONES', 'CONTRIBUCIONES_X_PAGAR', 'ANTICIPOS_CTE',\n",
            "       'CAP_SOCIAL', 'UTILIDADES_ACUMULADAS', 'UTILIDAD_O_PERDIDA',\n",
            "       'TOTAL_VENTAS', 'TOTAL_COMPRAS', 'UTILIDAD_BRUTA', 'TOTAL_GASTOS',\n",
            "       'OBJETIVO'],\n",
            "      dtype='object')\n"
          ],
          "name": "stdout"
        }
      ]
    },
    {
      "cell_type": "markdown",
      "metadata": {
        "id": "BDsj3WMxetfr",
        "colab_type": "text"
      },
      "source": [
        "#### Transformación 2: estandarización de Features"
      ]
    },
    {
      "cell_type": "markdown",
      "metadata": {
        "id": "xSeJNxKXetfr",
        "colab_type": "text"
      },
      "source": [
        "#### Definición de features (Variables Independientes)\n",
        "\n",
        "En este * ejemplo * usaremos todas las columnas. (Usted debe decidir cuales variables utilizar)"
      ]
    },
    {
      "cell_type": "markdown",
      "metadata": {
        "id": "yXqsrR65etfs",
        "colab_type": "text"
      },
      "source": [
        "#### División en 80% entrenamiento y 20% pruebas"
      ]
    },
    {
      "cell_type": "markdown",
      "metadata": {
        "id": "HVQW3nZMetfs",
        "colab_type": "text"
      },
      "source": [
        "#### Transformación 3: tratamiento de datos faltantes\n",
        "\n",
        "Para manejar los datos que faltan en nuestro conjunto de datos, ahora usaremos una transformación lista para usar de la biblioteca scikit-learn, llamada SimpleImputer.\n",
        "\n",
        "Esta transformación permite varias estrategias para el tratamiento de datos faltantes. La documentación oficial se puede encontrar en: https://scikit-learn.org/stable/modules/generated/sklearn.impute.SimpleImputer.html\n",
        "\n",
        "En este ejemplo, simplemente haremos cero todos los valores faltante usted puede escoger otra estrategia ;)."
      ]
    },
    {
      "cell_type": "code",
      "metadata": {
        "id": "yKil1sRHetft",
        "colab_type": "code",
        "colab": {},
        "outputId": "ef080b51-dc0f-40cf-f1e0-682e96196d16"
      },
      "source": [
        "# Crear un objeto ``SimpleImputer``\n",
        "si = SimpleImputer(\n",
        "    missing_values=np.nan,  # los valores que faltan son del tipo ``np.nan`` (Pandas estándar)\n",
        "    strategy='constant',  # la estrategia elegida es cambiar el valor faltante por una constante\n",
        "    fill_value=0,  # la constante que se usará para completar los valores faltantes es un int64 = 0\n",
        "    verbose=0,\n",
        "    copy=True\n",
        ")\n",
        "\n",
        "print(si)"
      ],
      "execution_count": null,
      "outputs": [
        {
          "output_type": "stream",
          "text": [
            "SimpleImputer(copy=True, fill_value=0, missing_values=nan,\n",
            "       strategy='constant', verbose=0)\n"
          ],
          "name": "stdout"
        }
      ]
    },
    {
      "cell_type": "code",
      "metadata": {
        "id": "gwNfJYsCetfw",
        "colab_type": "code",
        "colab": {},
        "outputId": "a15398c6-8c50-411f-c100-017266ec1981"
      },
      "source": [
        "# Ver los datos faltantes del conjunto de datos antes de la primera transformación (df_data_2)\n",
        "print(\"Valores nulos antes de la transformación SimpleImputer: \\n\\n{}\\n\".format(df2.isnull().sum(axis = 0)))\n",
        "\n",
        "# Aplicamos el SimpleImputer ``si`` al conjunto de datos df_data_2 (resultado de la primera transformación)\n",
        "si.fit(X=df2)\n",
        "\n",
        "# Reconstrucción de un nuevo DataFrame de Pandas con el conjunto imputado (df_data_3)\n",
        "df3 = pd.DataFrame.from_records(\n",
        "    data=si.transform(\n",
        "        X=df2\n",
        "    ),  # el resultado SimpleImputer.transform (<< pandas dataframe >>) es lista lista\n",
        "    columns=df2.columns  # las columnas originales deben conservarse en esta transformación\n",
        ")\n",
        "\n",
        "# Ver los datos faltantes del conjunto de datos después de la segunda transformación (SimpleImputer) (df_data_3)\n",
        "print(\"\\n\\nValores nulos en el conjunto de datos después de la transformación SimpleImputer: \\n\\n{}\\n\".format(df3.isnull().sum(axis = 0)))"
      ],
      "execution_count": null,
      "outputs": [
        {
          "output_type": "stream",
          "text": [
            "Valores nulos antes de la transformación SimpleImputer: \n",
            "\n",
            "EFECTIVO                     1414\n",
            "INVENTARIO                   1400\n",
            "EQ_OFICINA                   1455\n",
            "EQ_TRANSPORTE                1412\n",
            "TERRENOS_Y_CONSTRUCCIONES    1362\n",
            "CONTRIBUCIONES_X_PAGAR       1348\n",
            "ANTICIPOS_CTE                1424\n",
            "CAP_SOCIAL                   1364\n",
            "UTILIDADES_ACUMULADAS        1407\n",
            "UTILIDAD_O_PERDIDA           1369\n",
            "TOTAL_VENTAS                 1459\n",
            "TOTAL_COMPRAS                1492\n",
            "UTILIDAD_BRUTA               1429\n",
            "TOTAL_GASTOS                 1457\n",
            "OBJETIVO                        0\n",
            "dtype: int64\n",
            "\n",
            "\n",
            "\n",
            "Valores nulos en el conjunto de datos después de la transformación SimpleImputer: \n",
            "\n",
            "EFECTIVO                     0\n",
            "INVENTARIO                   0\n",
            "EQ_OFICINA                   0\n",
            "EQ_TRANSPORTE                0\n",
            "TERRENOS_Y_CONSTRUCCIONES    0\n",
            "CONTRIBUCIONES_X_PAGAR       0\n",
            "ANTICIPOS_CTE                0\n",
            "CAP_SOCIAL                   0\n",
            "UTILIDADES_ACUMULADAS        0\n",
            "UTILIDAD_O_PERDIDA           0\n",
            "TOTAL_VENTAS                 0\n",
            "TOTAL_COMPRAS                0\n",
            "UTILIDAD_BRUTA               0\n",
            "TOTAL_GASTOS                 0\n",
            "OBJETIVO                     0\n",
            "dtype: int64\n",
            "\n"
          ],
          "name": "stdout"
        }
      ]
    },
    {
      "cell_type": "code",
      "metadata": {
        "id": "yvL6KquPetfy",
        "colab_type": "code",
        "colab": {}
      },
      "source": [
        "# Definiendo las variables features y target (removed CXC and CXP)\n",
        "\n",
        "features = df3[\n",
        "    [\n",
        "        'EFECTIVO',\n",
        "        'INVENTARIO',\n",
        "        'EQ_OFICINA',\n",
        "        'EQ_TRANSPORTE',\n",
        "        'TERRENOS_Y_CONSTRUCCIONES',\n",
        "        'CONTRIBUCIONES_X_PAGAR',\n",
        "        'ANTICIPOS_CTE',\n",
        "        'CAP_SOCIAL',\n",
        "        'UTILIDADES_ACUMULADAS',\n",
        "        'UTILIDAD_O_PERDIDA',\n",
        "        'TOTAL_VENTAS',\n",
        "        'TOTAL_COMPRAS',\n",
        "        'UTILIDAD_BRUTA',\n",
        "        'TOTAL_GASTOS',\n",
        "    ]\n",
        "]\n",
        "target = df3[\"OBJETIVO\"]  ## No cambie la variable target!"
      ],
      "execution_count": null,
      "outputs": []
    },
    {
      "cell_type": "code",
      "metadata": {
        "id": "tokYNOOfetf1",
        "colab_type": "code",
        "colab": {}
      },
      "source": [
        "X_train, X_test, y_train, y_test = train_test_split(features, target, test_size=0.2, random_state=243)"
      ],
      "execution_count": null,
      "outputs": []
    },
    {
      "cell_type": "code",
      "metadata": {
        "id": "-gbTNAt6etf3",
        "colab_type": "code",
        "colab": {}
      },
      "source": [
        "from sklearn.preprocessing import StandardScaler\n",
        "\n",
        "sc = StandardScaler()\n",
        "\n",
        "X_train = sc.fit_transform(X_train)\n",
        "X_test = sc.transform(X_test)"
      ],
      "execution_count": null,
      "outputs": []
    },
    {
      "cell_type": "markdown",
      "metadata": {
        "id": "9M6kNXA_etf5",
        "colab_type": "text"
      },
      "source": [
        "#### Entrenando un modelo ``XGBClassifier()``"
      ]
    },
    {
      "cell_type": "code",
      "metadata": {
        "id": "3Uu9vOwietf5",
        "colab_type": "code",
        "colab": {}
      },
      "source": [
        "# Método para creacion de modelos basados en arbol de desición\n",
        "#from sklearn.tree import DecisionTreeClassifier\n",
        "from xgboost import XGBClassifier\n",
        "\n",
        "dtc = XGBClassifier(max_depth=8, learning_rate=0.1, n_estimators=200,\n",
        "                              silent=True, objective='binary:logistic', booster='gbtree')\n",
        "model = dtc.fit(X_train, y_train)"
      ],
      "execution_count": null,
      "outputs": []
    },
    {
      "cell_type": "markdown",
      "metadata": {
        "id": "FReLFoTQetf8",
        "colab_type": "text"
      },
      "source": [
        "#### Haciendo una predicción con el set de prueba"
      ]
    },
    {
      "cell_type": "code",
      "metadata": {
        "scrolled": true,
        "id": "3HhvuIKJetf8",
        "colab_type": "code",
        "colab": {}
      },
      "source": [
        "y_pred = dtc.predict(X_test)"
      ],
      "execution_count": null,
      "outputs": []
    },
    {
      "cell_type": "markdown",
      "metadata": {
        "id": "oQWPpK-Ketf-",
        "colab_type": "text"
      },
      "source": [
        "<h2>Analizar la calidad del modelo a través de la matriz de confusión</h2>"
      ]
    },
    {
      "cell_type": "markdown",
      "metadata": {
        "id": "BSpOpwK3etf_",
        "colab_type": "text"
      },
      "source": [
        "Accuracy = VP + VN / (VP + VN +FN + FP)\n",
        "\n",
        "precision = VP / (VP + FP )\n",
        "\n",
        "Recall = VP / (VP + FN)\n",
        "\n",
        "F1_score = 2 * precision*recall / (precision + recall) "
      ]
    },
    {
      "cell_type": "code",
      "metadata": {
        "scrolled": true,
        "id": "R6zjQ7_Tetf_",
        "colab_type": "code",
        "colab": {},
        "outputId": "c3399d5b-861a-431a-b55d-83a53b620019"
      },
      "source": [
        "\n",
        "from sklearn.metrics import confusion_matrix\n",
        "\n",
        "cf_matrix = confusion_matrix(y_test, y_pred)\n",
        "group_names = ['Aprobado `Aceptado`', 'Refused `Sospechoso`', 'Refused `Aceptado`', 'Aprobado `Sospechoso`']\n",
        "group_counts = ['{0:0.0f}'.format(value) for value in cf_matrix.flatten()]\n",
        "group_percentages = ['{0:.2%}'.format(value) for value in cf_matrix.flatten()/np.sum(cf_matrix)]\n",
        "labels = [f'{v1}\\n{v2}\\n{v3}' for v1, v2, v3 in zip(group_names, group_counts, group_percentages)]\n",
        "labels = np.asarray(labels).reshape(2,2)\n",
        "\n",
        "accuracy  = np.trace(cf_matrix) / float(np.sum(cf_matrix)) # (VP + VN) / (VP + VN +FN +FP)\n",
        "precision = cf_matrix[0,0] / (cf_matrix[0,0] + cf_matrix[1,0])  # VP / (VP + FP)\n",
        "recall    = cf_matrix[0,0] / (cf_matrix[0,0] + cf_matrix[0,1]) # VP / (VP + FN )\n",
        "f1_score  = 2*precision*recall / (precision + recall) \n",
        "\n",
        "\n",
        "sns.heatmap(cf_matrix, annot=labels, fmt='')\n",
        "stats_text = \"\\n\\nAccuracy={:0.3f}\\nPrecision={:0.3f}\\nRecall={:0.3f}\\nF1 Score={:0.3f}\".format(accuracy, precision, recall, f1_score)\n",
        "plt.ylabel('True label')\n",
        "plt.xlabel('Predicted label' + stats_text)"
      ],
      "execution_count": null,
      "outputs": [
        {
          "output_type": "execute_result",
          "data": {
            "text/plain": [
              "Text(0.5, 15.0, 'Predicted label\\n\\nAccuracy=0.976\\nPrecision=0.984\\nRecall=0.991\\nF1 Score=0.987')"
            ]
          },
          "metadata": {
            "tags": []
          },
          "execution_count": 20
        },
        {
          "output_type": "display_data",
          "data": {
            "text/plain": [
              "<Figure size 432x288 with 2 Axes>"
            ],
            "image/png": "[encoded data removed]"
          },
          "metadata": {
            "tags": [],
            "needs_background": "light"
          }
        }
      ]
    },
    {
      "cell_type": "markdown",
      "metadata": {
        "id": "mV37VbvqetgB",
        "colab_type": "text"
      },
      "source": [
        "Resultado se mejoro el F1_Score de 0.52 pasamos a 0.98"
      ]
    }
  ]
}